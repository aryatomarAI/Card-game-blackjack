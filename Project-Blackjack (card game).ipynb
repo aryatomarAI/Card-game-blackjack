{
 "cells": [
  {
   "cell_type": "code",
   "execution_count": 1,
   "metadata": {},
   "outputs": [],
   "source": [
    "#To play a hand of Blackjack the following steps must be followed:\n",
    "\n",
    "#Create a deck of 52 cards\n",
    "#Shuffle the deck\n",
    "#Ask the Player for their bet\n",
    "#Make sure that the Player's bet does not exceed their available chips\n",
    "#Deal two cards to the Dealer and two cards to the Player\n",
    "#Show only one of the Dealer's cards, the other remains hidden\n",
    "#Show both of the Player's cards\n",
    "#Ask the Player if they wish to Hit, and take another card\n",
    "#If the Player's hand doesn't Bust (go over 21), ask if they'd like to Hit again.\n",
    "#If a Player Stands, play the Dealer's hand. The dealer will always Hit until the Dealer's value meets or exceeds 17\n",
    "#Determine the winner and adjust the Player's chips accordingly\n",
    "#Ask the Player if they'd like to play again"
   ]
  },
  {
   "cell_type": "code",
   "execution_count": 2,
   "metadata": {},
   "outputs": [],
   "source": [
    "# In this game value of all face cards is 10 and value of ace can be 11 or 1 as needed to reach 21 without busting\n",
    "import random\n",
    "suits=('Hearts','Diamonds','Clubs','Spades')\n",
    "ranks=('Two','Three','Four','Five','Six','Seven','Eight','Nine','Ten','Jack','Queen','King','Ace')\n",
    "values = {'Two':2, 'Three':3, 'Four':4, 'Five':5, 'Six':6, 'Seven':7, 'Eight':8, 'Nine':9, 'Ten':10, 'Jack':10,\n",
    "         'Queen':10, 'King':10, 'Ace':11}\n",
    "playing=True"
   ]
  },
  {
   "cell_type": "code",
   "execution_count": 3,
   "metadata": {},
   "outputs": [],
   "source": [
    "# Now we are creating a card class to define each card's suit,rank and value"
   ]
  },
  {
   "cell_type": "code",
   "execution_count": 4,
   "metadata": {},
   "outputs": [],
   "source": [
    "class Card:\n",
    "    def __init__ (self,suits,ranks):\n",
    "        self.suits=suits\n",
    "        self.ranks=ranks\n",
    "        \n",
    "        \n",
    "    def __str__(self):\n",
    "        return self.ranks + ' of ' + self.suits\n",
    "    "
   ]
  },
  {
   "cell_type": "code",
   "execution_count": 5,
   "metadata": {},
   "outputs": [],
   "source": [
    "my_card=Card('Hearts','Five')"
   ]
  },
  {
   "cell_type": "code",
   "execution_count": 6,
   "metadata": {},
   "outputs": [
    {
     "name": "stdout",
     "output_type": "stream",
     "text": [
      "Five of Hearts\n"
     ]
    }
   ],
   "source": [
    "print(my_card)"
   ]
  },
  {
   "cell_type": "code",
   "execution_count": 7,
   "metadata": {},
   "outputs": [
    {
     "data": {
      "text/plain": [
       "'Five'"
      ]
     },
     "execution_count": 7,
     "metadata": {},
     "output_type": "execute_result"
    }
   ],
   "source": [
    "my_card.ranks"
   ]
  },
  {
   "cell_type": "code",
   "execution_count": null,
   "metadata": {},
   "outputs": [],
   "source": []
  },
  {
   "cell_type": "code",
   "execution_count": 8,
   "metadata": {},
   "outputs": [],
   "source": [
    "# creating Deck Class to define full 52 cards with individual suit,rank and value(Creating a Card Deck)\n",
    "# Then we will shuffle this card deck"
   ]
  },
  {
   "cell_type": "code",
   "execution_count": 9,
   "metadata": {},
   "outputs": [],
   "source": [
    "class Deck:\n",
    "    def __init__(self):\n",
    "        self.deck=[] # starting with an empty list\n",
    "        for suit in suits:\n",
    "            for rank in ranks:\n",
    "                created_card=Card(suit,rank)\n",
    "                self.deck.append(created_card)\n",
    "    def show_card(self):\n",
    "        for card in self.deck:\n",
    "            print(card)\n",
    "            \n",
    "    def shuffle (self):\n",
    "        random.shuffle(self.deck)\n",
    "    def deal_one(self):\n",
    "        single_card= self.deck.pop()\n",
    "        return single_card\n",
    "        \n",
    "                "
   ]
  },
  {
   "cell_type": "code",
   "execution_count": 10,
   "metadata": {},
   "outputs": [],
   "source": [
    "my_deck=Deck()"
   ]
  },
  {
   "cell_type": "code",
   "execution_count": 11,
   "metadata": {},
   "outputs": [
    {
     "name": "stdout",
     "output_type": "stream",
     "text": [
      "Two of Hearts\n",
      "Three of Hearts\n",
      "Four of Hearts\n",
      "Five of Hearts\n",
      "Six of Hearts\n",
      "Seven of Hearts\n",
      "Eight of Hearts\n",
      "Nine of Hearts\n",
      "Ten of Hearts\n",
      "Jack of Hearts\n",
      "Queen of Hearts\n",
      "King of Hearts\n",
      "Ace of Hearts\n",
      "Two of Diamonds\n",
      "Three of Diamonds\n",
      "Four of Diamonds\n",
      "Five of Diamonds\n",
      "Six of Diamonds\n",
      "Seven of Diamonds\n",
      "Eight of Diamonds\n",
      "Nine of Diamonds\n",
      "Ten of Diamonds\n",
      "Jack of Diamonds\n",
      "Queen of Diamonds\n",
      "King of Diamonds\n",
      "Ace of Diamonds\n",
      "Two of Clubs\n",
      "Three of Clubs\n",
      "Four of Clubs\n",
      "Five of Clubs\n",
      "Six of Clubs\n",
      "Seven of Clubs\n",
      "Eight of Clubs\n",
      "Nine of Clubs\n",
      "Ten of Clubs\n",
      "Jack of Clubs\n",
      "Queen of Clubs\n",
      "King of Clubs\n",
      "Ace of Clubs\n",
      "Two of Spades\n",
      "Three of Spades\n",
      "Four of Spades\n",
      "Five of Spades\n",
      "Six of Spades\n",
      "Seven of Spades\n",
      "Eight of Spades\n",
      "Nine of Spades\n",
      "Ten of Spades\n",
      "Jack of Spades\n",
      "Queen of Spades\n",
      "King of Spades\n",
      "Ace of Spades\n"
     ]
    }
   ],
   "source": [
    "my_deck.show_card()"
   ]
  },
  {
   "cell_type": "code",
   "execution_count": 12,
   "metadata": {},
   "outputs": [],
   "source": [
    "# Creating a hand card Class "
   ]
  },
  {
   "cell_type": "code",
   "execution_count": 13,
   "metadata": {},
   "outputs": [],
   "source": [
    "# the Hand class may be used to calculate the value of those cards using the values dictionary defined above\n",
    "#It may also need to adjust for the value of Aces when appropriate."
   ]
  },
  {
   "cell_type": "code",
   "execution_count": 14,
   "metadata": {},
   "outputs": [],
   "source": [
    "class Hand:\n",
    "    def __init__ (self):\n",
    "        self.cards=[]\n",
    "        self.value=0\n",
    "        self.aces=0\n",
    "    def add_cards (self,card):\n",
    "        self.cards.append(card)\n",
    "        self.value += values[card.ranks]\n",
    "        if card.ranks=='Ace':\n",
    "            self.aces+=1\n",
    "    def adjust_for_ace (self):\n",
    "        while self.value > 21 and self.aces:\n",
    "            self.value-=10\n",
    "            self.aces-=1\n",
    "        "
   ]
  },
  {
   "cell_type": "code",
   "execution_count": 15,
   "metadata": {},
   "outputs": [
    {
     "data": {
      "text/plain": [
       "12"
      ]
     },
     "execution_count": 15,
     "metadata": {},
     "output_type": "execute_result"
    }
   ],
   "source": [
    "#Checking if this Hand class is working or not\n",
    "test_deck = Deck()\n",
    "test_deck.shuffle()\n",
    "test_player = Hand()\n",
    "test_player.add_cards(test_deck.deal_one())\n",
    "test_player.add_cards(test_deck.deal_one())\n",
    "test_player.value"
   ]
  },
  {
   "cell_type": "code",
   "execution_count": 16,
   "metadata": {},
   "outputs": [
    {
     "name": "stdout",
     "output_type": "stream",
     "text": [
      "Jack of Spades\n",
      "Two of Hearts\n"
     ]
    }
   ],
   "source": [
    "for card in test_player.cards:\n",
    "    print(card)"
   ]
  },
  {
   "cell_type": "code",
   "execution_count": 17,
   "metadata": {},
   "outputs": [],
   "source": [
    "# In addition to decks of cards and hands, we need to keep track of a Player's starting chips, bets, and ongoing winnings"
   ]
  },
  {
   "cell_type": "code",
   "execution_count": 18,
   "metadata": {},
   "outputs": [],
   "source": [
    "class Chips:\n",
    "    \n",
    "    def __init__(self):\n",
    "        self.total = 100  # This can be set to a default value or supplied by a user input\n",
    "        self.bet = 0\n",
    "    def win_bet (self):\n",
    "        self.total += self.bet\n",
    "    def lose_bet (self):\n",
    "        self.total -= self.bet"
   ]
  },
  {
   "cell_type": "code",
   "execution_count": 19,
   "metadata": {},
   "outputs": [],
   "source": [
    "# Next we will create a function which will ask for a bet amount"
   ]
  },
  {
   "cell_type": "code",
   "execution_count": 20,
   "metadata": {},
   "outputs": [],
   "source": [
    "def take_bet (chips):\n",
    "    while True:\n",
    "        try:\n",
    "            chips.bet=int(input('How many chips you want to place on this bet? '))\n",
    "        except ValueError:\n",
    "            print('Sorry')\n",
    "            print('Enter an integer value')\n",
    "        else:\n",
    "            if chips.bet > chips.total:\n",
    "                print (\"Sorry, your bet can't exceed\",chips.total)\n",
    "            else:\n",
    "                break\n",
    "    \n",
    "            \n",
    "            \n",
    "        "
   ]
  },
  {
   "cell_type": "code",
   "execution_count": 21,
   "metadata": {},
   "outputs": [],
   "source": [
    "# in this next function we will define hit "
   ]
  },
  {
   "cell_type": "code",
   "execution_count": 22,
   "metadata": {},
   "outputs": [],
   "source": [
    "# When you hit, you will receive another card from the dealer. \n",
    "#You can carry on hitting until you have either 'bust' (gone over 21), or you can decide to stand by taking no further cards. \n",
    "#The aim of the game is to get as close to 21 as possible without going over."
   ]
  },
  {
   "cell_type": "code",
   "execution_count": 23,
   "metadata": {},
   "outputs": [],
   "source": [
    "def hit (deck,hand):\n",
    "    hand.add_cards(deck.deal_one())\n",
    "    hand.adjust_for_ace()"
   ]
  },
  {
   "cell_type": "code",
   "execution_count": 24,
   "metadata": {},
   "outputs": [],
   "source": [
    "# Now will create a function which will ask the player to hit or stand"
   ]
  },
  {
   "cell_type": "code",
   "execution_count": 25,
   "metadata": {},
   "outputs": [],
   "source": [
    "def hit_or_stand (deck,hand):\n",
    "    global playing\n",
    "    while playing:\n",
    "        x=input(\"Would you like to hit or stand? Enter 'h' or 's' :\" )\n",
    "        if x[0].lower() == 'h':\n",
    "            hit(deck,hand)\n",
    "        elif x[0].lower() == 's':\n",
    "            print ('Player stand. Dealer is Playing')\n",
    "            playing= False\n",
    "        else:\n",
    "            print('please enter the correct letter')\n",
    "            continue\n",
    "        break\n",
    "            "
   ]
  },
  {
   "cell_type": "code",
   "execution_count": 26,
   "metadata": {},
   "outputs": [],
   "source": [
    "# Now we write a function to display cards\n",
    "# After each time Player takes a card, the dealer's first card is hidden and all of Player's cards are visible\n",
    "# At the end of the hand all cards are shown, and you may want to show each hand's total value. \n",
    "# Write a function for each of these scenarios."
   ]
  },
  {
   "cell_type": "code",
   "execution_count": 27,
   "metadata": {},
   "outputs": [],
   "source": [
    "def show_some(player,dealer):\n",
    "    print(\"\\nDealer's hand:\")\n",
    "    print(\"<card hidden>\")\n",
    "    print(\"\", dealer.cards[1])\n",
    "    print(\"\\nPlayer's hand:\",*player.cards, sep='\\n')\n",
    "\n",
    "def show_all(player,dealer):\n",
    "    print(\"\\nDealer's hand: \", *dealer.cards, sep='\\n')\n",
    "    print(\"Dealer's hand= \", dealer.value )\n",
    "    print(\"\\nPlayer's hand: \", *player.cards, sep='\\n')\n",
    "    print(\"Player's hand= \", player.value)\n"
   ]
  },
  {
   "cell_type": "code",
   "execution_count": 28,
   "metadata": {},
   "outputs": [],
   "source": [
    "#functions to handle end of game scenarios"
   ]
  },
  {
   "cell_type": "code",
   "execution_count": 29,
   "metadata": {},
   "outputs": [],
   "source": [
    "# pass player's hand, dealer's hand and chips as needed in the functions"
   ]
  },
  {
   "cell_type": "code",
   "execution_count": 34,
   "metadata": {},
   "outputs": [],
   "source": [
    "def player_busts(player,dealer,chips):\n",
    "    print(\"Player Busts!\")\n",
    "    chips.lose_bet()\n",
    "def player_win(player,dealer,chips):\n",
    "    print(\"Player Win!\")\n",
    "    chips.win_bet()\n",
    "def dealer_busts(player,dealer,chips):\n",
    "    print(\"Dealer Busts!\")\n",
    "    chips.win_bet()\n",
    "def dealer_win(player,dealer,chips):\n",
    "    print(\"Dealer Wins! \")\n",
    "    chips.lose_bet()\n",
    "def push(player,dealer):\n",
    "    print(\"It's a tie!\")"
   ]
  },
  {
   "cell_type": "code",
   "execution_count": 31,
   "metadata": {},
   "outputs": [],
   "source": [
    "# Function to ask player if he wants to play again\n",
    "def replay(): \n",
    "    choice='Wrong' \n",
    "    while choice not in ['y','n']:\n",
    "        choice=input('Do you want play again? (y or n):') \n",
    "        if choice not in ['y','n']: \n",
    "            print('Sorry, I dont understand please choose between Y and N!')\n",
    "    if choice=='y': \n",
    "        return True\n",
    "    else: \n",
    "        return False"
   ]
  },
  {
   "cell_type": "code",
   "execution_count": 32,
   "metadata": {},
   "outputs": [],
   "source": [
    "# Final Code \n",
    "# Now we have all the functions and classes that we need to built this game"
   ]
  },
  {
   "cell_type": "code",
   "execution_count": 39,
   "metadata": {},
   "outputs": [
    {
     "name": "stdout",
     "output_type": "stream",
     "text": [
      "Welcome to BlackJack! Get as close to 21 as you can without going over!\n",
      "    Dealer hits until she reaches 17. Aces count as 1 or 11.\n",
      "How many chips you want to place on this bet? 40\n",
      "\n",
      "Dealer's hand:\n",
      "<card hidden>\n",
      " Jack of Hearts\n",
      "\n",
      "Player's hand:\n",
      "Queen of Diamonds\n",
      "Four of Clubs\n",
      "\n",
      "Dealer's hand: \n",
      "Four of Hearts\n",
      "Jack of Hearts\n",
      "Seven of Hearts\n",
      "Dealer's hand=  21\n",
      "\n",
      "Player's hand: \n",
      "Queen of Diamonds\n",
      "Four of Clubs\n",
      "Player's hand=  14\n",
      "Dealer Wins! \n",
      "\n",
      "Player total chips count stand at : 60\n",
      "Do you want play again? (y or n):y\n",
      "Welcome to BlackJack! Get as close to 21 as you can without going over!\n",
      "    Dealer hits until she reaches 17. Aces count as 1 or 11.\n",
      "How many chips you want to place on this bet? 30\n",
      "\n",
      "Dealer's hand:\n",
      "<card hidden>\n",
      " Jack of Spades\n",
      "\n",
      "Player's hand:\n",
      "Two of Spades\n",
      "Seven of Clubs\n",
      "\n",
      "Dealer's hand: \n",
      "Four of Hearts\n",
      "Jack of Spades\n",
      "Six of Clubs\n",
      "Dealer's hand=  20\n",
      "\n",
      "Player's hand: \n",
      "Two of Spades\n",
      "Seven of Clubs\n",
      "Player's hand=  9\n",
      "Dealer Wins! \n",
      "\n",
      "Player total chips count stand at : 70\n",
      "Do you want play again? (y or n):y\n",
      "Welcome to BlackJack! Get as close to 21 as you can without going over!\n",
      "    Dealer hits until she reaches 17. Aces count as 1 or 11.\n",
      "How many chips you want to place on this bet? 4\n",
      "\n",
      "Dealer's hand:\n",
      "<card hidden>\n",
      " Queen of Spades\n",
      "\n",
      "Player's hand:\n",
      "Ace of Spades\n",
      "Seven of Spades\n",
      "\n",
      "Dealer's hand: \n",
      "Two of Clubs\n",
      "Queen of Spades\n",
      "Ace of Hearts\n",
      "Nine of Diamonds\n",
      "Dealer's hand=  22\n",
      "\n",
      "Player's hand: \n",
      "Ace of Spades\n",
      "Seven of Spades\n",
      "Player's hand=  18\n",
      "Dealer Busts!\n",
      "\n",
      "Player total chips count stand at : 104\n",
      "Do you want play again? (y or n):n\n"
     ]
    }
   ],
   "source": [
    "while True:\n",
    "    print('Welcome to BlackJack! Get as close to 21 as you can without going over!\\n\\\n",
    "    Dealer hits until she reaches 17. Aces count as 1 or 11.')\n",
    "    #Now let's start with the deck and shuffle it\n",
    "    #creating an object of class Deck\n",
    "    deck=Deck()\n",
    "    deck.shuffle()\n",
    "    #Now we will draw 2 cards from the shuffled deck for both players\n",
    "    #For that we have created a method called deal_one to pop out a card from the deck\n",
    "    # After drawing two cards for each player we will add these cards to their respective hand \n",
    "    # for adding cards to hand we have created a method called add_cards in calss Hand\n",
    "    player_hand=Hand() # Creating an object from class Hand for player's hand\n",
    "    player_hand.add_cards(deck.deal_one())\n",
    "    player_hand.add_cards(deck.deal_one())\n",
    "    \n",
    "    dealer_hand=Hand() # Creating an object for dealer's hand\n",
    "    dealer_hand.add_cards(deck.deal_one())\n",
    "    dealer_hand.add_cards(deck.deal_one())\n",
    "    # Now set up player's chips\n",
    "    player_chips=Chips() # 100 is the default value of the chips\n",
    "    # prompt the player of his bet\n",
    "    take_bet (player_chips)\n",
    "    \n",
    "    # Now show cards(But let the dealer's card hidden)\n",
    "    show_some(player_hand,dealer_hand)\n",
    "    \n",
    "    while playing:\n",
    "        # prompt for player to hit_or_stand\n",
    "        \n",
    "        hit_or_stand(deck,player_hand)\n",
    "        \n",
    "        # show cards(but keep one dealer's card hidden)\n",
    "        show_some (player_hand,dealer_hand)\n",
    "        \n",
    "        # if player's card value exceeds 21 then player busts and break out of the loop\n",
    "        if player_hand.value > 21 :\n",
    "            player_busts (player_hand,dealer_hand,player_chips)\n",
    "            break\n",
    "     # If Player hasn't busted, play Dealer's hand until Dealer reaches 17       \n",
    "    if player_hand.value <=21:\n",
    "        while dealer_hand.value < 17:\n",
    "            hit (deck,dealer_hand)\n",
    "        \n",
    "        # Show all cards\n",
    "        show_all(player_hand,dealer_hand)\n",
    "    # Run different winning scenarios\n",
    "        if dealer_hand.value > 21:\n",
    "            dealer_busts(player_hand,dealer_hand,player_chips)\n",
    "        elif dealer_hand.value > player_hand.value:\n",
    "            dealer_win(player_hand,dealer_hand,player_chips)\n",
    "        elif dealer_hand.value < player_hand.value:\n",
    "            player_win(player_hand,dealer_hand,player_chips)\n",
    "        else:\n",
    "            push(player_hand,dealer_hand)\n",
    "        \n",
    "    # Inform player of their chip total\n",
    "    print(\"\\nPlayer total chips count stand at :\",player_chips.total)\n",
    "    \n",
    "    if not replay():\n",
    "        break\n",
    "    \n",
    "    "
   ]
  },
  {
   "cell_type": "code",
   "execution_count": null,
   "metadata": {},
   "outputs": [],
   "source": []
  }
 ],
 "metadata": {
  "kernelspec": {
   "display_name": "Python 3",
   "language": "python",
   "name": "python3"
  },
  "language_info": {
   "codemirror_mode": {
    "name": "ipython",
    "version": 3
   },
   "file_extension": ".py",
   "mimetype": "text/x-python",
   "name": "python",
   "nbconvert_exporter": "python",
   "pygments_lexer": "ipython3",
   "version": "3.7.3"
  }
 },
 "nbformat": 4,
 "nbformat_minor": 2
}
